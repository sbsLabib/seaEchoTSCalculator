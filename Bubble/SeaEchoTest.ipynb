{
 "cells": [
  {
   "cell_type": "code",
   "execution_count": 1,
   "id": "5dc2018f-6b2e-43b7-b317-53b07f3d480d",
   "metadata": {},
   "outputs": [
    {
     "name": "stdout",
     "output_type": "stream",
     "text": [
      "Requirement already satisfied: numpy in /home/sajihbinsuja/.config/jupyterlab-desktop/jlab_server/lib/python3.12/site-packages (2.1.0)\n",
      "Requirement already satisfied: matplotlib in /home/sajihbinsuja/.config/jupyterlab-desktop/jlab_server/lib/python3.12/site-packages (3.9.2)\n",
      "Requirement already satisfied: ipywidgets in /home/sajihbinsuja/.config/jupyterlab-desktop/jlab_server/lib/python3.12/site-packages (8.1.5)\n",
      "Requirement already satisfied: mpmath in /home/sajihbinsuja/.config/jupyterlab-desktop/jlab_server/lib/python3.12/site-packages (1.3.0)\n",
      "Requirement already satisfied: contourpy>=1.0.1 in /home/sajihbinsuja/.config/jupyterlab-desktop/jlab_server/lib/python3.12/site-packages (from matplotlib) (1.2.1)\n",
      "Requirement already satisfied: cycler>=0.10 in /home/sajihbinsuja/.config/jupyterlab-desktop/jlab_server/lib/python3.12/site-packages (from matplotlib) (0.12.1)\n",
      "Requirement already satisfied: fonttools>=4.22.0 in /home/sajihbinsuja/.config/jupyterlab-desktop/jlab_server/lib/python3.12/site-packages (from matplotlib) (4.53.1)\n",
      "Requirement already satisfied: kiwisolver>=1.3.1 in /home/sajihbinsuja/.config/jupyterlab-desktop/jlab_server/lib/python3.12/site-packages (from matplotlib) (1.4.5)\n",
      "Requirement already satisfied: packaging>=20.0 in /home/sajihbinsuja/.config/jupyterlab-desktop/jlab_server/lib/python3.12/site-packages (from matplotlib) (24.1)\n",
      "Requirement already satisfied: pillow>=8 in /home/sajihbinsuja/.config/jupyterlab-desktop/jlab_server/lib/python3.12/site-packages (from matplotlib) (10.4.0)\n",
      "Requirement already satisfied: pyparsing>=2.3.1 in /home/sajihbinsuja/.config/jupyterlab-desktop/jlab_server/lib/python3.12/site-packages (from matplotlib) (3.1.4)\n",
      "Requirement already satisfied: python-dateutil>=2.7 in /home/sajihbinsuja/.config/jupyterlab-desktop/jlab_server/lib/python3.12/site-packages (from matplotlib) (2.9.0)\n",
      "Requirement already satisfied: comm>=0.1.3 in /home/sajihbinsuja/.config/jupyterlab-desktop/jlab_server/lib/python3.12/site-packages (from ipywidgets) (0.2.2)\n",
      "Requirement already satisfied: ipython>=6.1.0 in /home/sajihbinsuja/.config/jupyterlab-desktop/jlab_server/lib/python3.12/site-packages (from ipywidgets) (8.26.0)\n",
      "Requirement already satisfied: traitlets>=4.3.1 in /home/sajihbinsuja/.config/jupyterlab-desktop/jlab_server/lib/python3.12/site-packages (from ipywidgets) (5.14.3)\n",
      "Requirement already satisfied: widgetsnbextension~=4.0.12 in /home/sajihbinsuja/.config/jupyterlab-desktop/jlab_server/lib/python3.12/site-packages (from ipywidgets) (4.0.13)\n",
      "Requirement already satisfied: jupyterlab-widgets~=3.0.12 in /home/sajihbinsuja/.config/jupyterlab-desktop/jlab_server/lib/python3.12/site-packages (from ipywidgets) (3.0.13)\n",
      "Requirement already satisfied: decorator in /home/sajihbinsuja/.config/jupyterlab-desktop/jlab_server/lib/python3.12/site-packages (from ipython>=6.1.0->ipywidgets) (5.1.1)\n",
      "Requirement already satisfied: jedi>=0.16 in /home/sajihbinsuja/.config/jupyterlab-desktop/jlab_server/lib/python3.12/site-packages (from ipython>=6.1.0->ipywidgets) (0.19.1)\n",
      "Requirement already satisfied: matplotlib-inline in /home/sajihbinsuja/.config/jupyterlab-desktop/jlab_server/lib/python3.12/site-packages (from ipython>=6.1.0->ipywidgets) (0.1.7)\n",
      "Requirement already satisfied: prompt-toolkit<3.1.0,>=3.0.41 in /home/sajihbinsuja/.config/jupyterlab-desktop/jlab_server/lib/python3.12/site-packages (from ipython>=6.1.0->ipywidgets) (3.0.47)\n",
      "Requirement already satisfied: pygments>=2.4.0 in /home/sajihbinsuja/.config/jupyterlab-desktop/jlab_server/lib/python3.12/site-packages (from ipython>=6.1.0->ipywidgets) (2.18.0)\n",
      "Requirement already satisfied: stack-data in /home/sajihbinsuja/.config/jupyterlab-desktop/jlab_server/lib/python3.12/site-packages (from ipython>=6.1.0->ipywidgets) (0.6.2)\n",
      "Requirement already satisfied: pexpect>4.3 in /home/sajihbinsuja/.config/jupyterlab-desktop/jlab_server/lib/python3.12/site-packages (from ipython>=6.1.0->ipywidgets) (4.9.0)\n",
      "Requirement already satisfied: six>=1.5 in /home/sajihbinsuja/.config/jupyterlab-desktop/jlab_server/lib/python3.12/site-packages (from python-dateutil>=2.7->matplotlib) (1.16.0)\n",
      "Requirement already satisfied: parso<0.9.0,>=0.8.3 in /home/sajihbinsuja/.config/jupyterlab-desktop/jlab_server/lib/python3.12/site-packages (from jedi>=0.16->ipython>=6.1.0->ipywidgets) (0.8.4)\n",
      "Requirement already satisfied: ptyprocess>=0.5 in /home/sajihbinsuja/.config/jupyterlab-desktop/jlab_server/lib/python3.12/site-packages (from pexpect>4.3->ipython>=6.1.0->ipywidgets) (0.7.0)\n",
      "Requirement already satisfied: wcwidth in /home/sajihbinsuja/.config/jupyterlab-desktop/jlab_server/lib/python3.12/site-packages (from prompt-toolkit<3.1.0,>=3.0.41->ipython>=6.1.0->ipywidgets) (0.2.13)\n",
      "Requirement already satisfied: executing>=1.2.0 in /home/sajihbinsuja/.config/jupyterlab-desktop/jlab_server/lib/python3.12/site-packages (from stack-data->ipython>=6.1.0->ipywidgets) (2.0.1)\n",
      "Requirement already satisfied: asttokens>=2.1.0 in /home/sajihbinsuja/.config/jupyterlab-desktop/jlab_server/lib/python3.12/site-packages (from stack-data->ipython>=6.1.0->ipywidgets) (2.4.1)\n",
      "Requirement already satisfied: pure-eval in /home/sajihbinsuja/.config/jupyterlab-desktop/jlab_server/lib/python3.12/site-packages (from stack-data->ipython>=6.1.0->ipywidgets) (0.2.3)\n",
      "All dependencies and modules loaded successfully!\n"
     ]
    }
   ],
   "source": [
    "# Step 1: Install dependencies\n",
    "!pip install numpy matplotlib ipywidgets mpmath\n",
    "\n",
    "# Step 2: Set up Python path\n",
    "import sys\n",
    "import os\n",
    "\n",
    "# Add the Bubble directory to the Python path\n",
    "bubble_path = os.path.abspath(os.path.join(os.getcwd(), \"..\"))\n",
    "if bubble_path not in sys.path:\n",
    "    sys.path.append(bubble_path)\n",
    "\n",
    "# Step 3: Import required modules\n",
    "import numpy as np\n",
    "import matplotlib.pyplot as plt\n",
    "import ipywidgets as widgets\n",
    "from IPython.display import display\n",
    "\n",
    "# Import modules from the Bubble folder\n",
    "from Bubble.utils.SeaEcho_water_bubble import seawater, air_bubble\n",
    "from Bubble.models.thuraisingham_model import calculate_thuraisingham_ts\n",
    "from Bubble.models.modal_solution import calculate_modal_ts\n",
    "from Bubble.models.medwin_clay_model import calculate_medwin_clay_ts\n",
    "from Bubble.models.breathing_model import calculate_breathing_ts\n",
    "\n",
    "# Validate that all dependencies are loaded correctly\n",
    "print(\"All dependencies and modules loaded successfully!\")"
   ]
  },
  {
   "cell_type": "code",
   "execution_count": 2,
   "id": "94683f5e-7f05-4b62-9bfc-ed20c6ac53e5",
   "metadata": {},
   "outputs": [
    {
     "data": {
      "application/vnd.jupyter.widget-view+json": {
       "model_id": "2b6608fb61644b3498f052a63ebcdef8",
       "version_major": 2,
       "version_minor": 0
      },
      "text/plain": [
       "FloatText(value=20.0, description='Temperature (°C):', style=DescriptionStyle(description_width='initial'))"
      ]
     },
     "metadata": {},
     "output_type": "display_data"
    },
    {
     "data": {
      "application/vnd.jupyter.widget-view+json": {
       "model_id": "54b06ce024494a028339e2dd1ed50b19",
       "version_major": 2,
       "version_minor": 0
      },
      "text/plain": [
       "FloatText(value=35.0, description='Salinity (PSU):', style=DescriptionStyle(description_width='initial'))"
      ]
     },
     "metadata": {},
     "output_type": "display_data"
    },
    {
     "data": {
      "application/vnd.jupyter.widget-view+json": {
       "model_id": "eb03140f9bfe49a7818e444338f0e484",
       "version_major": 2,
       "version_minor": 0
      },
      "text/plain": [
       "FloatText(value=10.0, description='Depth (m):', style=DescriptionStyle(description_width='initial'))"
      ]
     },
     "metadata": {},
     "output_type": "display_data"
    },
    {
     "data": {
      "application/vnd.jupyter.widget-view+json": {
       "model_id": "27b25851730f42c697d3a8f3899f1c80",
       "version_major": 2,
       "version_minor": 0
      },
      "text/plain": [
       "FloatText(value=1000.0, description='Frequency (Hz):', style=DescriptionStyle(description_width='initial'))"
      ]
     },
     "metadata": {},
     "output_type": "display_data"
    },
    {
     "data": {
      "application/vnd.jupyter.widget-view+json": {
       "model_id": "7a3b57a5634f456aa31ad917de358f03",
       "version_major": 2,
       "version_minor": 0
      },
      "text/plain": [
       "FloatText(value=0.001, description='Bubble Diameter (m):', style=DescriptionStyle(description_width='initial')…"
      ]
     },
     "metadata": {},
     "output_type": "display_data"
    },
    {
     "data": {
      "application/vnd.jupyter.widget-view+json": {
       "model_id": "83e356b01975432caeb85b5133b5a85c",
       "version_major": 2,
       "version_minor": 0
      },
      "text/plain": [
       "Dropdown(description='Select Model:', options=(('Thuraisingham Model', 'thuraisingham'), ('Modal Solution Mode…"
      ]
     },
     "metadata": {},
     "output_type": "display_data"
    },
    {
     "data": {
      "application/vnd.jupyter.widget-view+json": {
       "model_id": "dbc3ff221df244d897a877e8858974a4",
       "version_major": 2,
       "version_minor": 0
      },
      "text/plain": [
       "Button(button_style='success', description='Calculate TS', style=ButtonStyle())"
      ]
     },
     "metadata": {},
     "output_type": "display_data"
    }
   ],
   "source": [
    "# Step 1: Create input fields for physical properties\n",
    "temperature_input = widgets.FloatText(value=20, description=\"Temperature (°C):\", style={'description_width': 'initial'})\n",
    "salinity_input = widgets.FloatText(value=35, description=\"Salinity (PSU):\", style={'description_width': 'initial'})\n",
    "depth_input = widgets.FloatText(value=10, description=\"Depth (m):\", style={'description_width': 'initial'})\n",
    "frequency_input = widgets.FloatText(value=1000, description=\"Frequency (Hz):\", style={'description_width': 'initial'})\n",
    "bubble_diameter_input = widgets.FloatText(value=0.001, description=\"Bubble Diameter (m):\", style={'description_width': 'initial'})\n",
    "\n",
    "# Step 2: Create a dropdown for model selection\n",
    "model_dropdown = widgets.Dropdown(\n",
    "    options=[\n",
    "        (\"Thuraisingham Model\", \"thuraisingham\"),\n",
    "        (\"Modal Solution Model\", \"modal\"),\n",
    "        (\"Medwin and Clay Model\", \"medwin_clay\"),\n",
    "        (\"Breathing Model\", \"breathing\")\n",
    "    ],\n",
    "    value=\"thuraisingham\",  # Default selection\n",
    "    description=\"Select Model:\",\n",
    "    style={'description_width': 'initial'}\n",
    ")\n",
    "\n",
    "# Step 3: Create a button to trigger calculations\n",
    "calculate_button = widgets.Button(description=\"Calculate TS\", button_style=\"success\")\n",
    "\n",
    "# Step 4: Display the input fields and dropdown\n",
    "display(temperature_input)\n",
    "display(salinity_input)\n",
    "display(depth_input)\n",
    "display(frequency_input)\n",
    "display(bubble_diameter_input)\n",
    "display(model_dropdown)\n",
    "display(calculate_button)"
   ]
  },
  {
   "cell_type": "code",
   "execution_count": null,
   "id": "f49752fb-f56f-45f3-96bd-8d74f1f10897",
   "metadata": {},
   "outputs": [],
   "source": []
  }
 ],
 "metadata": {
  "kernelspec": {
   "display_name": "Python 3 (ipykernel)",
   "language": "python",
   "name": "python3"
  },
  "language_info": {
   "codemirror_mode": {
    "name": "ipython",
    "version": 3
   },
   "file_extension": ".py",
   "mimetype": "text/x-python",
   "name": "python",
   "nbconvert_exporter": "python",
   "pygments_lexer": "ipython3",
   "version": "3.12.5"
  }
 },
 "nbformat": 4,
 "nbformat_minor": 5
}
