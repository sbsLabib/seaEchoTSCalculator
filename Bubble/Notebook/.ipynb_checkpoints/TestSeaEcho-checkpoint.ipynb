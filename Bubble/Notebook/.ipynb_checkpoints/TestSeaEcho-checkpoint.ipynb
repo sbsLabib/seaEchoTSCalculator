{
 "cells": [
  {
   "cell_type": "code",
   "execution_count": null,
   "id": "af421d10-f9b5-48ac-9e50-f9cec2375e4d",
   "metadata": {},
   "outputs": [],
   "source": []
  }
 ],
 "metadata": {
  "kernelspec": {
   "display_name": "Python 3 (ipykernel)",
   "language": "python",
   "name": "python3"
  },
  "language_info": {
   "codemirror_mode": {
    "name": "ipython",
    "version": 3
   },
   "file_extension": ".py",
   "mimetype": "text/x-python",
   "name": "python",
   "nbconvert_exporter": "python",
   "pygments_lexer": "ipython3",
   "version": "3.12.5"
  }
 },
 "nbformat": 4,
 "nbformat_minor": 5
}
