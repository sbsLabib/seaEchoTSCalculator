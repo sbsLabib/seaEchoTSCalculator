{
 "cells": [
  {
   "cell_type": "code",
   "execution_count": 14,
   "id": "634bfb20-ee45-4cee-b797-13ab7bf41315",
   "metadata": {},
   "outputs": [],
   "source": [
    "import sys\n",
    "import os\n",
    "\n",
    "# Dynamically add the parent directory to the Python path\n",
    "module_path = os.path.abspath(os.path.join(os.getcwd(), '..'))\n",
    "if module_path not in sys.path:\n",
    "    sys.path.append(module_path)"
   ]
  },
  {
   "cell_type": "code",
   "execution_count": 15,
   "id": "f9cee3b9-1656-4e2b-a6e7-f280d6a091df",
   "metadata": {},
   "outputs": [
    {
     "name": "stdout",
     "output_type": "stream",
     "text": [
      "Requirement already satisfied: mpmath in /home/sajihbinsuja/.config/jupyterlab-desktop/jlab_server/lib/python3.12/site-packages (1.3.0)\n"
     ]
    }
   ],
   "source": [
    "!pip install mpmath"
   ]
  },
  {
   "cell_type": "code",
   "execution_count": 16,
   "id": "af421d10-f9b5-48ac-9e50-f9cec2375e4d",
   "metadata": {},
   "outputs": [],
   "source": [
    "import numpy as np\n",
    "import matplotlib.pyplot as plt\n",
    "from concurrent.futures import ProcessPoolExecutor\n",
    "from utils.physical_properties import sound_speed\n",
    "from models.breathing_model import calculate_breathing_ts\n",
    "from models.thuraisingham_model import calculate_thuraisingham_ts\n",
    "from models.modal_solution import calculate_modal_ts\n",
    "from models.medwin_clay_model import calculate_medwin_clay_ts\n",
    "from utils.SeaEcho_water_bubble import seawater, air_bubble\n",
    "import ipywidgets as widgets\n",
    "from IPython.display import display"
   ]
  },
  {
   "cell_type": "code",
   "execution_count": 17,
   "id": "595a7d08-2471-4819-8a9d-5a37f69a82bf",
   "metadata": {},
   "outputs": [
    {
     "data": {
      "application/vnd.jupyter.widget-view+json": {
       "model_id": "be080e1c35a04730be7883cb18031364",
       "version_major": 2,
       "version_minor": 0
      },
      "text/plain": [
       "Dropdown(description='Scattering Model:', options={'Breathing Model': 'calculate_breathing_ts', 'Thuraisingham…"
      ]
     },
     "metadata": {},
     "output_type": "display_data"
    }
   ],
   "source": [
    "# Define the available models\n",
    "models = {\n",
    "    \"Breathing Model\": \"calculate_breathing_ts\",\n",
    "    \"Thuraisingham Model\": \"calculate_thuraisingham_ts\",\n",
    "    \"Modal Solution\": \"calculate_modal_ts\",\n",
    "    \"Medwin-Clay Model\": \"calculate_medwin_clay_ts\",\n",
    "}\n",
    "\n",
    "# Create a dropdown widget\n",
    "model_dropdown = widgets.Dropdown(\n",
    "    options=models,\n",
    "    value=\"calculate_breathing_ts\",  # Default selection\n",
    "    description=\"Scattering Model:\",\n",
    "    style={'description_width': 'initial'}\n",
    ")\n",
    "\n",
    "# Display the dropdown\n",
    "display(model_dropdown)\n",
    "\n",
    "# You can access the selected value like this\n",
    "def on_model_change(change):\n",
    "    print(f\"Selected Model: {change['new']}\")\n",
    "\n",
    "# Attach a listener to detect when the selection changes\n",
    "model_dropdown.observe(on_model_change, names='value')\n"
   ]
  },
  {
   "cell_type": "code",
   "execution_count": 18,
   "id": "a5287898-2895-4f40-8aad-3f55608df287",
   "metadata": {},
   "outputs": [
    {
     "data": {
      "application/vnd.jupyter.widget-view+json": {
       "model_id": "92605ee54ccd4c24b6f3056acf2b5792",
       "version_major": 2,
       "version_minor": 0
      },
      "text/plain": [
       "VBox(children=(Label(value='Set Physical Properties'), HBox(children=(FloatSlider(value=25.0, continuous_updat…"
      ]
     },
     "metadata": {},
     "output_type": "display_data"
    }
   ],
   "source": [
    "# Create an Output widget to display results dynamically\n",
    "output = widgets.Output()\n",
    "\n",
    "# Create input widgets for physical properties with both slider and text input\n",
    "temperature_slider = widgets.FloatSlider(\n",
    "    value=25.0,\n",
    "    min=-10.0,\n",
    "    max=40.0,\n",
    "    step=0.1,\n",
    "    description='Temperature (°C):',\n",
    "    style={'description_width': 'initial'},\n",
    "    continuous_update=False\n",
    ")\n",
    "\n",
    "temperature_text = widgets.FloatText(\n",
    "    value=25.0,\n",
    "    description='',\n",
    "    style={'description_width': 'initial'}\n",
    ")\n",
    "\n",
    "# Link slider and text input\n",
    "widgets.jslink((temperature_slider, 'value'), (temperature_text, 'value'))\n",
    "\n",
    "salinity_slider = widgets.FloatSlider(\n",
    "    value=35.0,\n",
    "    min=0.0,\n",
    "    max=50.0,\n",
    "    step=0.1,\n",
    "    description='Salinity (PSU):',\n",
    "    style={'description_width': 'initial'},\n",
    "    continuous_update=False\n",
    ")\n",
    "\n",
    "salinity_text = widgets.FloatText(\n",
    "    value=35.0,\n",
    "    description='',\n",
    "    style={'description_width': 'initial'}\n",
    ")\n",
    "\n",
    "widgets.jslink((salinity_slider, 'value'), (salinity_text, 'value'))\n",
    "\n",
    "depth_slider = widgets.FloatSlider(\n",
    "    value=1000.0,\n",
    "    min=0.0,\n",
    "    max=11000.0,\n",
    "    step=10.0,\n",
    "    description='Depth (m):',\n",
    "    style={'description_width': 'initial'},\n",
    "    continuous_update=False\n",
    ")\n",
    "\n",
    "depth_text = widgets.FloatText(\n",
    "    value=1000.0,\n",
    "    description='',\n",
    "    style={'description_width': 'initial'}\n",
    ")\n",
    "\n",
    "widgets.jslink((depth_slider, 'value'), (depth_text, 'value'))\n",
    "\n",
    "# Arrange sliders and text inputs in a horizontal layout\n",
    "temperature_box = widgets.HBox([temperature_slider, temperature_text])\n",
    "salinity_box = widgets.HBox([salinity_slider, salinity_text])\n",
    "depth_box = widgets.HBox([depth_slider, depth_text])\n",
    "\n",
    "# Global dictionary to store inputs for further use\n",
    "physical_properties = {}\n",
    "\n",
    "# Access and validate the selected values, then calculate sound speed\n",
    "def calculate_physical_properties():\n",
    "    temperature = temperature_slider.value\n",
    "    salinity = salinity_slider.value\n",
    "    depth = depth_slider.value\n",
    "    \n",
    "    # Validation\n",
    "    with output:\n",
    "        output.clear_output()  # Clear previous output\n",
    "        if temperature < -10 or temperature > 40:\n",
    "            print(\"Error: Temperature must be between -10°C and 40°C.\")\n",
    "            return\n",
    "        if salinity < 0 or salinity > 50:\n",
    "            print(\"Error: Salinity must be between 0 PSU and 50 PSU.\")\n",
    "            return\n",
    "        if depth < 0 or depth > 11000:\n",
    "            print(\"Error: Depth must be between 0 m and 11,000 m.\")\n",
    "            return\n",
    "\n",
    "        # Initialize the seawater object\n",
    "        water = seawater(temperature=temperature, depth=depth, salinity=salinity)\n",
    "\n",
    "        # Retrieve sound speed, density, and pressure\n",
    "        c = water.sound_speed()  # Sound speed\n",
    "        rho = water.density()    # Density\n",
    "        P = water.pressure()     # Pressure\n",
    "\n",
    "        # Save properties for further use\n",
    "        physical_properties['temperature'] = temperature\n",
    "        physical_properties['salinity'] = salinity\n",
    "        physical_properties['depth'] = depth\n",
    "        physical_properties['sound_speed'] = c\n",
    "        physical_properties['density'] = rho\n",
    "        physical_properties['pressure'] = P\n",
    "\n",
    "        # Display valid inputs and calculated properties\n",
    "        print(f\"Sound Speed: {c:.2f} m/s\")\n",
    "        print(f\"Density: {rho:.2f} kg/m³\")\n",
    "        print(f\"Pressure: {P:.2f} Pa\")\n",
    "\n",
    "# Button to calculate properties\n",
    "calculate_button = widgets.Button(description=\"Calculate Properties\")\n",
    "calculate_button.on_click(lambda b: calculate_physical_properties())\n",
    "\n",
    "# Group all elements into a vertical layout for better organization\n",
    "ui = widgets.VBox([\n",
    "    widgets.Label(\"Set Physical Properties\"),\n",
    "    temperature_box,\n",
    "    salinity_box,\n",
    "    depth_box,\n",
    "    calculate_button,\n",
    "    output\n",
    "])\n",
    "\n",
    "# Display the UI\n",
    "display(ui)\n"
   ]
  },
  {
   "cell_type": "code",
   "execution_count": 19,
   "id": "095f8c82-b51a-496f-9b8b-7f1cafdfd48b",
   "metadata": {},
   "outputs": [
    {
     "data": {
      "application/vnd.jupyter.widget-view+json": {
       "model_id": "28a27c3e41f0462898d8966194f02624",
       "version_major": 2,
       "version_minor": 0
      },
      "text/plain": [
       "VBox(children=(FloatText(value=10.0, description='Min Frequency (Hz):', style=DescriptionStyle(description_wid…"
      ]
     },
     "metadata": {},
     "output_type": "display_data"
    },
    {
     "data": {
      "application/vnd.jupyter.widget-view+json": {
       "model_id": "f1436b743c454c9abd123c9a805b13ad",
       "version_major": 2,
       "version_minor": 0
      },
      "text/plain": [
       "Button(description='Run Model', style=ButtonStyle())"
      ]
     },
     "metadata": {},
     "output_type": "display_data"
    }
   ],
   "source": [
    "from utils.SeaEcho_water_bubble import seawater, air_bubble\n",
    "\n",
    "# Create input fields for frequency range and points\n",
    "min_freq_input = widgets.FloatText(\n",
    "    value=10.0,\n",
    "    description=\"Min Frequency (Hz):\",\n",
    "    style={\"description_width\": \"initial\"}\n",
    ")\n",
    "max_freq_input = widgets.FloatText(\n",
    "    value=5000.0,\n",
    "    description=\"Max Frequency (Hz):\",\n",
    "    style={\"description_width\": \"initial\"}\n",
    ")\n",
    "num_points_input = widgets.IntText(\n",
    "    value=500,\n",
    "    description=\"Number of Points:\",\n",
    "    style={\"description_width\": \"initial\"}\n",
    ")\n",
    "\n",
    "# Group frequency inputs in a single box for a cleaner UI\n",
    "frequency_inputs = widgets.VBox([min_freq_input, max_freq_input, num_points_input])\n",
    "display(frequency_inputs)\n",
    "\n",
    "# Function to execute the selected scattering model\n",
    "def execute_model(*args):\n",
    "    # Get the selected scattering model\n",
    "    selected_model = model_dropdown.value\n",
    "\n",
    "    # Retrieve physical property inputs\n",
    "    temperature = temperature_slider.value\n",
    "    salinity = salinity_slider.value\n",
    "    depth = depth_slider.value\n",
    "\n",
    "    # Retrieve user-input frequency range\n",
    "    min_freq = min_freq_input.value\n",
    "    max_freq = max_freq_input.value\n",
    "    num_points = num_points_input.value\n",
    "\n",
    "    # Validate frequency inputs\n",
    "    with output:\n",
    "        output.clear_output()\n",
    "        if min_freq >= max_freq:\n",
    "            print(\"Error: Min Frequency must be less than Max Frequency.\")\n",
    "            return\n",
    "        if num_points <= 0:\n",
    "            print(\"Error: Number of Points must be positive.\")\n",
    "            return\n",
    "\n",
    "        # Initialize seawater object with physical properties\n",
    "        water = seawater(temperature=temperature, depth=depth, salinity=salinity)\n",
    "        c = water.sound_speed()\n",
    "        print(f\"Calculated Sound Speed: {c:.2f} m/s\")\n",
    "\n",
    "        # Define frequency range based on user input (convert to kHz)\n",
    "        frequencies = np.linspace(min_freq, max_freq, num_points) / 1000  # Convert Hz → kHz\n",
    "\n",
    "        # Initialize bubble object (default example values for diameter)\n",
    "        bubble_diameter = 0.001  # Example bubble diameter in meters\n",
    "        bubble = air_bubble(water, temperature, depth, salinity, bubble_diameter)\n",
    "\n",
    "        # Call the selected model's function\n",
    "        if selected_model == \"calculate_breathing_ts\":\n",
    "            results = [calculate_breathing_ts(f, c, water, bubble) for f in frequencies]\n",
    "            model_name = \"Breathing Model\"\n",
    "        elif selected_model == \"calculate_thuraisingham_ts\":\n",
    "            results = [calculate_thuraisingham_ts(f, c, water, bubble) for f in frequencies]\n",
    "            model_name = \"Thuraisingham Model\"\n",
    "        elif selected_model == \"calculate_modal_ts\":\n",
    "            results = [calculate_modal_ts(f, c, water, bubble) for f in frequencies]\n",
    "            model_name = \"Modal Solution\"\n",
    "        elif selected_model == \"calculate_medwin_clay_ts\":\n",
    "            results = [calculate_medwin_clay_ts(f, c, water, bubble) for f in frequencies]\n",
    "            model_name = \"Medwin-Clay Model\"\n",
    "        else:\n",
    "            print(\"Invalid model selected!\")\n",
    "            return\n",
    "\n",
    "        # Plot the results\n",
    "        plt.figure(figsize=(8, 6))\n",
    "        plt.plot(frequencies * 1000, results, label=f\"{model_name}\")  # Convert back to Hz for plotting\n",
    "        plt.xlabel(\"Frequency (Hz)\")\n",
    "        plt.ylabel(\"Target Strength (dB)\")\n",
    "        plt.title(f\"{model_name} Target Strength vs Frequency\")\n",
    "        plt.grid(True)\n",
    "        plt.legend()\n",
    "        plt.show()\n",
    "\n",
    "# Button to execute the model\n",
    "execute_button = widgets.Button(description=\"Run Model\")\n",
    "execute_button.on_click(execute_model)\n",
    "display(execute_button)"
   ]
  },
  {
   "cell_type": "code",
   "execution_count": null,
   "id": "bcc0526b-bca1-472c-8e01-18a2bc8fe83a",
   "metadata": {},
   "outputs": [],
   "source": []
  },
  {
   "cell_type": "code",
   "execution_count": null,
   "id": "a3033b1e-44ca-4be6-9f3e-dbf0b314aaef",
   "metadata": {},
   "outputs": [],
   "source": []
  }
 ],
 "metadata": {
  "kernelspec": {
   "display_name": "Python 3 (ipykernel)",
   "language": "python",
   "name": "python3"
  },
  "language_info": {
   "codemirror_mode": {
    "name": "ipython",
    "version": 3
   },
   "file_extension": ".py",
   "mimetype": "text/x-python",
   "name": "python",
   "nbconvert_exporter": "python",
   "pygments_lexer": "ipython3",
   "version": "3.12.5"
  }
 },
 "nbformat": 4,
 "nbformat_minor": 5
}
